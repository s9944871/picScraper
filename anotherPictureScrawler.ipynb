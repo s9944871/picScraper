{
 "cells": [
  {
   "cell_type": "code",
   "execution_count": 1,
   "metadata": {},
   "outputs": [
    {
     "name": "stdout",
     "output_type": "stream",
     "text": [
      "['photo.xuite.net/lunar.fox/2472996/1.jpg', 'photo.xuite.net/lunar.fox/2472996/1.jpg', 'photo.xuite.net/lunar.fox/2472996/2.jpg', 'photo.xuite.net/lunar.fox/2472996/2.jpg', 'photo.xuite.net/lunar.fox/2472996/3.jpg', 'photo.xuite.net/lunar.fox/2472996/3.jpg', 'photo.xuite.net/lunar.fox/2472996/4.jpg', 'photo.xuite.net/lunar.fox/2472996/4.jpg', 'photo.xuite.net/lunar.fox/2472996/5.jpg', 'photo.xuite.net/lunar.fox/2472996/5.jpg', 'photo.xuite.net/lunar.fox/2472996/6.jpg', 'photo.xuite.net/lunar.fox/2472996/6.jpg', 'photo.xuite.net/lunar.fox/2472996/7.jpg', 'photo.xuite.net/lunar.fox/2472996/7.jpg', 'photo.xuite.net/lunar.fox/2472996/8.jpg', 'photo.xuite.net/lunar.fox/2472996/8.jpg', 'photo.xuite.net/lunar.fox/2472996/9.jpg', 'photo.xuite.net/lunar.fox/2472996/9.jpg', 'photo.xuite.net/lunar.fox/2472996/10.jpg', 'photo.xuite.net/lunar.fox/2472996/10.jpg', 'photo.xuite.net/lunar.fox/2472996/11.jpg', 'photo.xuite.net/lunar.fox/2472996/11.jpg', 'photo.xuite.net/lunar.fox/2472996/12.jpg', 'photo.xuite.net/lunar.fox/2472996/12.jpg', 'photo.xuite.net/lunar.fox/2472996/13.jpg', 'photo.xuite.net/lunar.fox/2472996/13.jpg', 'photo.xuite.net/lunar.fox/2472996/14.jpg', 'photo.xuite.net/lunar.fox/2472996/14.jpg', 'photo.xuite.net/lunar.fox/2472996/15.jpg', 'photo.xuite.net/lunar.fox/2472996/15.jpg', 'photo.xuite.net/lunar.fox/2472996/16.jpg', 'photo.xuite.net/lunar.fox/2472996/16.jpg', 'photo.xuite.net/lunar.fox/2472996/17.jpg', 'photo.xuite.net/lunar.fox/2472996/17.jpg', 'photo.xuite.net/lunar.fox/2472996/18.jpg', 'photo.xuite.net/lunar.fox/2472996/18.jpg', 'photo.xuite.net/lunar.fox/2472996/19.jpg', 'photo.xuite.net/lunar.fox/2472996/19.jpg', 'photo.xuite.net/lunar.fox/2472996/20.jpg', 'photo.xuite.net/lunar.fox/2472996/20.jpg', 'photo.xuite.net/lunar.fox/2472996/21.jpg', 'photo.xuite.net/lunar.fox/2472996/21.jpg']\n",
      "['photo.xuite.net/lunar.fox/2472996/22.jpg', 'photo.xuite.net/lunar.fox/2472996/22.jpg', 'photo.xuite.net/lunar.fox/2472996/23.jpg', 'photo.xuite.net/lunar.fox/2472996/23.jpg', 'photo.xuite.net/lunar.fox/2472996/24.jpg', 'photo.xuite.net/lunar.fox/2472996/24.jpg', 'photo.xuite.net/lunar.fox/2472996/25.jpg', 'photo.xuite.net/lunar.fox/2472996/25.jpg', 'photo.xuite.net/lunar.fox/2472996/26.jpg', 'photo.xuite.net/lunar.fox/2472996/26.jpg', 'photo.xuite.net/lunar.fox/2472996/27.jpg', 'photo.xuite.net/lunar.fox/2472996/27.jpg', 'photo.xuite.net/lunar.fox/2472996/28.jpg', 'photo.xuite.net/lunar.fox/2472996/28.jpg', 'photo.xuite.net/lunar.fox/2472996/29.jpg', 'photo.xuite.net/lunar.fox/2472996/29.jpg', 'photo.xuite.net/lunar.fox/2472996/30.jpg', 'photo.xuite.net/lunar.fox/2472996/30.jpg', 'photo.xuite.net/lunar.fox/2472996/31.jpg', 'photo.xuite.net/lunar.fox/2472996/31.jpg', 'photo.xuite.net/lunar.fox/2472996/32.jpg', 'photo.xuite.net/lunar.fox/2472996/32.jpg', 'photo.xuite.net/lunar.fox/2472996/33.jpg', 'photo.xuite.net/lunar.fox/2472996/33.jpg', 'photo.xuite.net/lunar.fox/2472996/34.jpg', 'photo.xuite.net/lunar.fox/2472996/34.jpg', 'photo.xuite.net/lunar.fox/2472996/35.jpg', 'photo.xuite.net/lunar.fox/2472996/35.jpg', 'photo.xuite.net/lunar.fox/2472996/36.jpg', 'photo.xuite.net/lunar.fox/2472996/36.jpg', 'photo.xuite.net/lunar.fox/2472996/37.jpg', 'photo.xuite.net/lunar.fox/2472996/37.jpg', 'photo.xuite.net/lunar.fox/2472996/38.jpg', 'photo.xuite.net/lunar.fox/2472996/38.jpg', 'photo.xuite.net/lunar.fox/2472996/39.jpg', 'photo.xuite.net/lunar.fox/2472996/39.jpg', 'photo.xuite.net/lunar.fox/2472996/40.jpg', 'photo.xuite.net/lunar.fox/2472996/40.jpg', 'photo.xuite.net/lunar.fox/2472996/41.jpg', 'photo.xuite.net/lunar.fox/2472996/41.jpg', 'photo.xuite.net/lunar.fox/2472996/42.jpg', 'photo.xuite.net/lunar.fox/2472996/42.jpg']\n",
      "['photo.xuite.net/lunar.fox/2472996/43.jpg', 'photo.xuite.net/lunar.fox/2472996/43.jpg', 'photo.xuite.net/lunar.fox/2472996/44.jpg', 'photo.xuite.net/lunar.fox/2472996/44.jpg', 'photo.xuite.net/lunar.fox/2472996/45.jpg', 'photo.xuite.net/lunar.fox/2472996/45.jpg', 'photo.xuite.net/lunar.fox/2472996/46.jpg', 'photo.xuite.net/lunar.fox/2472996/46.jpg', 'photo.xuite.net/lunar.fox/2472996/47.jpg', 'photo.xuite.net/lunar.fox/2472996/47.jpg', 'photo.xuite.net/lunar.fox/2472996/48.jpg', 'photo.xuite.net/lunar.fox/2472996/48.jpg', 'photo.xuite.net/lunar.fox/2472996/49.jpg', 'photo.xuite.net/lunar.fox/2472996/49.jpg', 'photo.xuite.net/lunar.fox/2472996/50.jpg', 'photo.xuite.net/lunar.fox/2472996/50.jpg', 'photo.xuite.net/lunar.fox/2472996/51.jpg', 'photo.xuite.net/lunar.fox/2472996/51.jpg', 'photo.xuite.net/lunar.fox/2472996/52.jpg', 'photo.xuite.net/lunar.fox/2472996/52.jpg', 'photo.xuite.net/lunar.fox/2472996/53.jpg', 'photo.xuite.net/lunar.fox/2472996/53.jpg', 'photo.xuite.net/lunar.fox/2472996/54.jpg', 'photo.xuite.net/lunar.fox/2472996/54.jpg', 'photo.xuite.net/lunar.fox/2472996/55.jpg', 'photo.xuite.net/lunar.fox/2472996/55.jpg', 'photo.xuite.net/lunar.fox/2472996/56.jpg', 'photo.xuite.net/lunar.fox/2472996/56.jpg', 'photo.xuite.net/lunar.fox/2472996/57.jpg', 'photo.xuite.net/lunar.fox/2472996/57.jpg', 'photo.xuite.net/lunar.fox/2472996/58.jpg', 'photo.xuite.net/lunar.fox/2472996/58.jpg', 'photo.xuite.net/lunar.fox/2472996/59.jpg', 'photo.xuite.net/lunar.fox/2472996/59.jpg', 'photo.xuite.net/lunar.fox/2472996/60.jpg', 'photo.xuite.net/lunar.fox/2472996/60.jpg', 'photo.xuite.net/lunar.fox/2472996/61.jpg', 'photo.xuite.net/lunar.fox/2472996/61.jpg', 'photo.xuite.net/lunar.fox/2472996/62.jpg', 'photo.xuite.net/lunar.fox/2472996/62.jpg', 'photo.xuite.net/lunar.fox/2472996/63.jpg', 'photo.xuite.net/lunar.fox/2472996/63.jpg']\n",
      "['photo.xuite.net/lunar.fox/2472996/64.jpg', 'photo.xuite.net/lunar.fox/2472996/64.jpg', 'photo.xuite.net/lunar.fox/2472996/65.jpg', 'photo.xuite.net/lunar.fox/2472996/65.jpg', 'photo.xuite.net/lunar.fox/2472996/66.jpg', 'photo.xuite.net/lunar.fox/2472996/66.jpg', 'photo.xuite.net/lunar.fox/2472996/67.jpg', 'photo.xuite.net/lunar.fox/2472996/67.jpg', 'photo.xuite.net/lunar.fox/2472996/68.jpg', 'photo.xuite.net/lunar.fox/2472996/68.jpg', 'photo.xuite.net/lunar.fox/2472996/69.jpg', 'photo.xuite.net/lunar.fox/2472996/69.jpg', 'photo.xuite.net/lunar.fox/2472996/70.jpg', 'photo.xuite.net/lunar.fox/2472996/70.jpg', 'photo.xuite.net/lunar.fox/2472996/71.jpg', 'photo.xuite.net/lunar.fox/2472996/71.jpg', 'photo.xuite.net/lunar.fox/2472996/72.jpg', 'photo.xuite.net/lunar.fox/2472996/72.jpg', 'photo.xuite.net/lunar.fox/2472996/73.jpg', 'photo.xuite.net/lunar.fox/2472996/73.jpg', 'photo.xuite.net/lunar.fox/2472996/74.jpg', 'photo.xuite.net/lunar.fox/2472996/74.jpg', 'photo.xuite.net/lunar.fox/2472996/75.jpg', 'photo.xuite.net/lunar.fox/2472996/75.jpg', 'photo.xuite.net/lunar.fox/2472996/76.jpg', 'photo.xuite.net/lunar.fox/2472996/76.jpg', 'photo.xuite.net/lunar.fox/2472996/77.jpg', 'photo.xuite.net/lunar.fox/2472996/77.jpg', 'photo.xuite.net/lunar.fox/2472996/78.jpg', 'photo.xuite.net/lunar.fox/2472996/78.jpg', 'photo.xuite.net/lunar.fox/2472996/79.jpg', 'photo.xuite.net/lunar.fox/2472996/79.jpg', 'photo.xuite.net/lunar.fox/2472996/80.jpg', 'photo.xuite.net/lunar.fox/2472996/80.jpg', 'photo.xuite.net/lunar.fox/2472996/81.jpg', 'photo.xuite.net/lunar.fox/2472996/81.jpg', 'photo.xuite.net/lunar.fox/2472996/82.jpg', 'photo.xuite.net/lunar.fox/2472996/82.jpg', 'photo.xuite.net/lunar.fox/2472996/83.jpg', 'photo.xuite.net/lunar.fox/2472996/83.jpg', 'photo.xuite.net/lunar.fox/2472996/84.jpg', 'photo.xuite.net/lunar.fox/2472996/84.jpg']\n",
      "['photo.xuite.net/lunar.fox/2472996/85.jpg', 'photo.xuite.net/lunar.fox/2472996/85.jpg', 'photo.xuite.net/lunar.fox/2472996/86.jpg', 'photo.xuite.net/lunar.fox/2472996/86.jpg', 'photo.xuite.net/lunar.fox/2472996/87.jpg', 'photo.xuite.net/lunar.fox/2472996/87.jpg', 'photo.xuite.net/lunar.fox/2472996/88.jpg', 'photo.xuite.net/lunar.fox/2472996/88.jpg', 'photo.xuite.net/lunar.fox/2472996/89.jpg', 'photo.xuite.net/lunar.fox/2472996/89.jpg', 'photo.xuite.net/lunar.fox/2472996/90.jpg', 'photo.xuite.net/lunar.fox/2472996/90.jpg', 'photo.xuite.net/lunar.fox/2472996/91.jpg', 'photo.xuite.net/lunar.fox/2472996/91.jpg', 'photo.xuite.net/lunar.fox/2472996/92.jpg', 'photo.xuite.net/lunar.fox/2472996/92.jpg', 'photo.xuite.net/lunar.fox/2472996/93.jpg', 'photo.xuite.net/lunar.fox/2472996/93.jpg', 'photo.xuite.net/lunar.fox/2472996/94.jpg', 'photo.xuite.net/lunar.fox/2472996/94.jpg', 'photo.xuite.net/lunar.fox/2472996/95.jpg', 'photo.xuite.net/lunar.fox/2472996/95.jpg', 'photo.xuite.net/lunar.fox/2472996/96.jpg', 'photo.xuite.net/lunar.fox/2472996/96.jpg', 'photo.xuite.net/lunar.fox/2472996/97.jpg', 'photo.xuite.net/lunar.fox/2472996/97.jpg', 'photo.xuite.net/lunar.fox/2472996/98.jpg', 'photo.xuite.net/lunar.fox/2472996/98.jpg', 'photo.xuite.net/lunar.fox/2472996/99.jpg', 'photo.xuite.net/lunar.fox/2472996/99.jpg', 'photo.xuite.net/lunar.fox/2472996/100.jpg', 'photo.xuite.net/lunar.fox/2472996/100.jpg', 'photo.xuite.net/lunar.fox/2472996/101.jpg', 'photo.xuite.net/lunar.fox/2472996/101.jpg', 'photo.xuite.net/lunar.fox/2472996/102.jpg', 'photo.xuite.net/lunar.fox/2472996/102.jpg', 'photo.xuite.net/lunar.fox/2472996/103.jpg', 'photo.xuite.net/lunar.fox/2472996/103.jpg', 'photo.xuite.net/lunar.fox/2472996/104.jpg', 'photo.xuite.net/lunar.fox/2472996/104.jpg']\n"
     ]
    }
   ],
   "source": [
    "#參考精通python爬蟲第6章做的\n",
    "\n",
    "import re\n",
    "import urllib.request\n",
    "def craw(url, page):\n",
    "    headers=(\"User-Agent\", \"Mozilla/5.0 (Windows NT 10.0; WOW64; Trident/7.0; rv:11.0) like Gecko\")\n",
    "    opener=urllib.request.build_opener()\n",
    "    opener.addheaders=[headers]\n",
    "    html1=str(opener.open(url).read())\n",
    "    html1=html1.replace(\"\\\\x\",\"%\")\n",
    "    pat1='<div class=\"blogbody\".+? <div id=\"linksRight\">'\n",
    "    result1=re.compile(pat1).findall(html1)\n",
    "    result1=result1[0]\n",
    "    #print(result1)#這逝是加來檢查的\n",
    "    pat2=\"photo\\.xuite\\.net\\/lunar\\.fox\\/2472996\\/\\d+\\.jpg\"\n",
    "    imagelist=re.compile(pat2).findall(result1)\n",
    "    print(imagelist)#這逝是加來檢查的\n",
    "    x=1\n",
    "    for imageurl in imagelist:\n",
    "        imagename=\"C:\\\\Users\\\\user\\\\Desktop\\\\pics scrawled\\\\bingtshinn\"+str(x)+\".jpg\"\n",
    "        imageurl=\"http://\"+imageurl\n",
    "        try:\n",
    "            urllib.request.urlretrieve(imageurl, filename=imagename)\n",
    "        except urllib.error.URLError as e:\n",
    "            if hasattr(e, \"code\"):\n",
    "                print(\"error type 1\")\n",
    "                x+=1\n",
    "            if hasattr(e, \"reason\"):\n",
    "                print(\"error type 2\")\n",
    "                x+=1\n",
    "        x+=1\n",
    "\n",
    "for i in range(1,6):\n",
    "    url=\"https://photo.xuite.net/lunar.fox/2472996*\"+str(i)\n",
    "    craw(url, i)"
   ]
  },
  {
   "cell_type": "raw",
   "metadata": {},
   "source": [
    "2020/06/10 \n",
    "1. 結果檔案干焦儉甲042，後壁的圖有揣著連結，無掠落來；\n",
    "2. 閣來，掠落來的圖攏格式有問題，開袂開。\n",
    "3. 注意看imagelist，逐張圖攏出現兩擺。\n",
    "\n",
    "2020/06/11\n",
    "佇except加error message print，毋過閣執行，都也無看著有印出來。\n",
    "\n",
    "https://towardsdatascience.com/image-scraping-with-python-a96feda8af2d"
   ]
  }
 ],
 "metadata": {
  "kernelspec": {
   "display_name": "Python 3",
   "language": "python",
   "name": "python3"
  },
  "language_info": {
   "codemirror_mode": {
    "name": "ipython",
    "version": 3
   },
   "file_extension": ".py",
   "mimetype": "text/x-python",
   "name": "python",
   "nbconvert_exporter": "python",
   "pygments_lexer": "ipython3",
   "version": "3.7.4"
  }
 },
 "nbformat": 4,
 "nbformat_minor": 2
}
